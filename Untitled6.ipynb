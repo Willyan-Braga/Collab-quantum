{
  "nbformat": 4,
  "nbformat_minor": 0,
  "metadata": {
    "colab": {
      "provenance": []
    },
    "kernelspec": {
      "name": "python3",
      "display_name": "Python 3"
    },
    "language_info": {
      "name": "python"
    }
  },
  "cells": [
    {
      "cell_type": "markdown",
      "source": [
        "Código referente a atividade requisitada.\n",
        "Equipe: Willyan Braga, Douglas Messias, Wendel Pedro, Maria Rita e Livia Rodrigues\n",
        "Turma: ADS 4º Período SENAC"
      ],
      "metadata": {
        "id": "BjzFo4efyyyd"
      }
    },
    {
      "cell_type": "code",
      "source": [
        "!pip install qiskit"
      ],
      "metadata": {
        "colab": {
          "base_uri": "https://localhost:8080/"
        },
        "id": "gJ9UPNn1tqY7",
        "outputId": "59c5da71-5a47-47e3-c1cf-bcdc54433ff9"
      },
      "execution_count": 12,
      "outputs": [
        {
          "output_type": "stream",
          "name": "stdout",
          "text": [
            "Looking in indexes: https://pypi.org/simple, https://us-python.pkg.dev/colab-wheels/public/simple/\n",
            "Requirement already satisfied: qiskit in /usr/local/lib/python3.10/dist-packages (0.43.1)\n",
            "Requirement already satisfied: qiskit-terra==0.24.1 in /usr/local/lib/python3.10/dist-packages (from qiskit) (0.24.1)\n",
            "Requirement already satisfied: qiskit-aer==0.12.0 in /usr/local/lib/python3.10/dist-packages (from qiskit) (0.12.0)\n",
            "Requirement already satisfied: qiskit-ibmq-provider==0.20.2 in /usr/local/lib/python3.10/dist-packages (from qiskit) (0.20.2)\n",
            "Requirement already satisfied: numpy>=1.16.3 in /usr/local/lib/python3.10/dist-packages (from qiskit-aer==0.12.0->qiskit) (1.22.4)\n",
            "Requirement already satisfied: scipy>=1.0 in /usr/local/lib/python3.10/dist-packages (from qiskit-aer==0.12.0->qiskit) (1.10.1)\n",
            "Requirement already satisfied: requests>=2.19 in /usr/local/lib/python3.10/dist-packages (from qiskit-ibmq-provider==0.20.2->qiskit) (2.27.1)\n",
            "Requirement already satisfied: requests-ntlm<=1.1.0 in /usr/local/lib/python3.10/dist-packages (from qiskit-ibmq-provider==0.20.2->qiskit) (1.1.0)\n",
            "Requirement already satisfied: urllib3>=1.21.1 in /usr/local/lib/python3.10/dist-packages (from qiskit-ibmq-provider==0.20.2->qiskit) (1.26.15)\n",
            "Requirement already satisfied: python-dateutil>=2.8.0 in /usr/local/lib/python3.10/dist-packages (from qiskit-ibmq-provider==0.20.2->qiskit) (2.8.2)\n",
            "Requirement already satisfied: websocket-client>=1.5.1 in /usr/local/lib/python3.10/dist-packages (from qiskit-ibmq-provider==0.20.2->qiskit) (1.5.1)\n",
            "Requirement already satisfied: websockets>=10.0 in /usr/local/lib/python3.10/dist-packages (from qiskit-ibmq-provider==0.20.2->qiskit) (11.0.3)\n",
            "Requirement already satisfied: rustworkx>=0.12.0 in /usr/local/lib/python3.10/dist-packages (from qiskit-terra==0.24.1->qiskit) (0.13.0)\n",
            "Requirement already satisfied: ply>=3.10 in /usr/local/lib/python3.10/dist-packages (from qiskit-terra==0.24.1->qiskit) (3.11)\n",
            "Requirement already satisfied: psutil>=5 in /usr/local/lib/python3.10/dist-packages (from qiskit-terra==0.24.1->qiskit) (5.9.5)\n",
            "Requirement already satisfied: sympy>=1.3 in /usr/local/lib/python3.10/dist-packages (from qiskit-terra==0.24.1->qiskit) (1.11.1)\n",
            "Requirement already satisfied: dill>=0.3 in /usr/local/lib/python3.10/dist-packages (from qiskit-terra==0.24.1->qiskit) (0.3.6)\n",
            "Requirement already satisfied: stevedore>=3.0.0 in /usr/local/lib/python3.10/dist-packages (from qiskit-terra==0.24.1->qiskit) (5.1.0)\n",
            "Requirement already satisfied: symengine<0.10,>=0.9 in /usr/local/lib/python3.10/dist-packages (from qiskit-terra==0.24.1->qiskit) (0.9.2)\n",
            "Requirement already satisfied: six>=1.5 in /usr/local/lib/python3.10/dist-packages (from python-dateutil>=2.8.0->qiskit-ibmq-provider==0.20.2->qiskit) (1.16.0)\n",
            "Requirement already satisfied: certifi>=2017.4.17 in /usr/local/lib/python3.10/dist-packages (from requests>=2.19->qiskit-ibmq-provider==0.20.2->qiskit) (2022.12.7)\n",
            "Requirement already satisfied: charset-normalizer~=2.0.0 in /usr/local/lib/python3.10/dist-packages (from requests>=2.19->qiskit-ibmq-provider==0.20.2->qiskit) (2.0.12)\n",
            "Requirement already satisfied: idna<4,>=2.5 in /usr/local/lib/python3.10/dist-packages (from requests>=2.19->qiskit-ibmq-provider==0.20.2->qiskit) (3.4)\n",
            "Requirement already satisfied: ntlm-auth>=1.0.2 in /usr/local/lib/python3.10/dist-packages (from requests-ntlm<=1.1.0->qiskit-ibmq-provider==0.20.2->qiskit) (1.5.0)\n",
            "Requirement already satisfied: cryptography>=1.3 in /usr/local/lib/python3.10/dist-packages (from requests-ntlm<=1.1.0->qiskit-ibmq-provider==0.20.2->qiskit) (40.0.2)\n",
            "Requirement already satisfied: pbr!=2.1.0,>=2.0.0 in /usr/local/lib/python3.10/dist-packages (from stevedore>=3.0.0->qiskit-terra==0.24.1->qiskit) (5.11.1)\n",
            "Requirement already satisfied: mpmath>=0.19 in /usr/local/lib/python3.10/dist-packages (from sympy>=1.3->qiskit-terra==0.24.1->qiskit) (1.3.0)\n",
            "Requirement already satisfied: cffi>=1.12 in /usr/local/lib/python3.10/dist-packages (from cryptography>=1.3->requests-ntlm<=1.1.0->qiskit-ibmq-provider==0.20.2->qiskit) (1.15.1)\n",
            "Requirement already satisfied: pycparser in /usr/local/lib/python3.10/dist-packages (from cffi>=1.12->cryptography>=1.3->requests-ntlm<=1.1.0->qiskit-ibmq-provider==0.20.2->qiskit) (2.21)\n"
          ]
        }
      ]
    },
    {
      "cell_type": "code",
      "execution_count": null,
      "metadata": {
        "colab": {
          "base_uri": "https://localhost:8080/",
          "height": 373
        },
        "id": "DHLCzVAwn2_l",
        "outputId": "6364f985-e317-4852-b803-e348e4f4cd79"
      },
      "outputs": [
        {
          "output_type": "error",
          "ename": "ImportError",
          "evalue": "ignored",
          "traceback": [
            "\u001b[0;31m---------------------------------------------------------------------------\u001b[0m",
            "\u001b[0;31mImportError\u001b[0m                               Traceback (most recent call last)",
            "\u001b[0;32m<ipython-input-11-1d326291e31d>\u001b[0m in \u001b[0;36m<cell line: 6>\u001b[0;34m()\u001b[0m\n\u001b[1;32m      4\u001b[0m \u001b[0;32mfrom\u001b[0m \u001b[0mqiskit\u001b[0m\u001b[0;34m.\u001b[0m\u001b[0mquantum_info\u001b[0m \u001b[0;32mimport\u001b[0m \u001b[0mStatevector\u001b[0m\u001b[0;34m\u001b[0m\u001b[0;34m\u001b[0m\u001b[0m\n\u001b[1;32m      5\u001b[0m \u001b[0;32mfrom\u001b[0m \u001b[0mqiskit\u001b[0m\u001b[0;34m.\u001b[0m\u001b[0malgorithms\u001b[0m \u001b[0;32mimport\u001b[0m \u001b[0mGrover\u001b[0m\u001b[0;34m\u001b[0m\u001b[0;34m\u001b[0m\u001b[0m\n\u001b[0;32m----> 6\u001b[0;31m \u001b[0;32mfrom\u001b[0m \u001b[0mqiskit\u001b[0m\u001b[0;34m.\u001b[0m\u001b[0mquantum_info\u001b[0m \u001b[0;32mimport\u001b[0m \u001b[0mSampler\u001b[0m\u001b[0;34m\u001b[0m\u001b[0;34m\u001b[0m\u001b[0m\n\u001b[0m\u001b[1;32m      7\u001b[0m \u001b[0;34m\u001b[0m\u001b[0m\n\u001b[1;32m      8\u001b[0m \u001b[0;31m# Defina o oráculo e o estado desejado\u001b[0m\u001b[0;34m\u001b[0m\u001b[0;34m\u001b[0m\u001b[0m\n",
            "\u001b[0;31mImportError\u001b[0m: cannot import name 'Sampler' from 'qiskit.quantum_info' (/usr/local/lib/python3.10/dist-packages/qiskit/quantum_info/__init__.py)",
            "",
            "\u001b[0;31m---------------------------------------------------------------------------\u001b[0;32m\nNOTE: If your import is failing due to a missing package, you can\nmanually install dependencies using either !pip or !apt.\n\nTo view examples of installing some common dependencies, click the\n\"Open Examples\" button below.\n\u001b[0;31m---------------------------------------------------------------------------\u001b[0m\n"
          ],
          "errorDetails": {
            "actions": [
              {
                "action": "open_url",
                "actionText": "Open Examples",
                "url": "/notebooks/snippets/importing_libraries.ipynb"
              }
            ]
          }
        }
      ],
      "source": [
        "from qiskit.providers.aer import Sampler\n",
        "\n",
        "from qiskit.algorithms import Grover\n",
        "from qiskit.circuit.library.phase_oracle import PhaseOracle\n",
        "from qiskit.exceptions import MissingOptionalLibraryError\n",
        "\n",
        "from qiskit import Aer\n",
        "from qiskit import QuantumCircuit\n",
        "from qiskit.algorithms import AmplificationProblem\n",
        "from qiskit.utils import QuantumInstance\n",
        "\n",
        "from qiskit import Aer\n",
        "from qiskit import QuantumCircuit\n",
        "from qiskit.algorithms import AmplificationProblem\n",
        "from qiskit.utils import QuantumInstance\n",
        "\n",
        "\n",
        "# Defina o oráculo e o estado desejado\n",
        "estado_desejado = ['11']\n",
        "oraculo = QuantumCircuit(2)\n",
        "oraculo.cz(0, 1)\n",
        "\n",
        "# Defina o problema de amplificação\n",
        "problem = AmplificationProblem(oraculo, is_good_state=estado_desejado)\n",
        "\n",
        "# Crie uma instância quântica para executar o algoritmo\n",
        "backend = Aer.get_backend('qasm_simulator')\n",
        "quantum_instance = QuantumInstance(backend, shots=1024)\n",
        "\n",
        "# Execute o algoritmo de Grover\n",
        "grover = Grover(quantum_instance=quantum_instance)\n",
        "result = grover.amplify(problem)\n",
        "\n",
        "# Exiba os resultados\n",
        "print('Tipo de resultado:', type(result))\n",
        "print()\n",
        "print('Sucesso!' if result.oracle_evaluation else 'Falha!')\n",
        "print('Principal medida:', result.top_measurement)\n",
        "\n",
        "# Definir a expressão lógica para números divisíveis por 3\n",
        "expressao = '(a & b & ~c & ~d) | (~a & ~b & c & ~d) | (~a & ~b & ~c & d) | (a & ~b & c & ~d)'\n",
        "\n",
        "try:\n",
        "    oracle = PhaseOracle(expressao)\n",
        "    # Avaliar se o número é divisível por 3\n",
        "    is_good_state = lambda bitstring: int(bitstring, 2) % 3 == 0\n",
        "    problem = AmplificationProblem(oracle, is_good_state=is_good_state)\n",
        "\n",
        "    # Visualizar o circuito do oráculo\n",
        "    display(problem.grover_operator.oracle.decompose().draw(output='mpl'))\n",
        "    \n",
        "except MissingOptionalLibraryError as ex:\n",
        "    print(ex)\n",
        "grover = Grover(sampler=Sampler(), iterations=1)\n",
        "resultado = grover.amplify(problem)\n",
        "\n",
        "print('Tipo de resultado:', type(resultado))\n",
        "print()\n",
        "print('Sucesso!' if resultado.oracle_evaluation else 'Falha!')\n",
        "print('Principal medida:', resultado.top_measurement)\n"
      ]
    }
  ]
}